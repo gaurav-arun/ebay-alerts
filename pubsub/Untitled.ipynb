{
 "cells": [
  {
   "cell_type": "code",
   "execution_count": 13,
   "id": "f14edbda",
   "metadata": {},
   "outputs": [
    {
     "name": "stdout",
     "output_type": "stream",
     "text": [
      "/Users/gaurav/projects/ebay_alerts_backend/pubsub\r\n"
     ]
    }
   ],
   "source": [
    "!pwd"
   ]
  },
  {
   "cell_type": "code",
   "execution_count": 1,
   "id": "d0630a21",
   "metadata": {},
   "outputs": [
    {
     "name": "stdout",
     "output_type": "stream",
     "text": [
      "/Users/gaurav/projects/ebay_alerts_backend\n"
     ]
    }
   ],
   "source": [
    "import os\n",
    "import sys\n",
    "import pathlib\n",
    "\n",
    "# PACKAGE_PARENT = pathlib.Path(__file__).parent\n",
    "\n",
    "# only for jupyter notebook\n",
    "PACKAGE_PARENT = pathlib.Path.cwd().parent\n",
    "\n",
    "print(PACKAGE_PARENT)\n",
    "sys.path.append(str(PACKAGE_PARENT))\n",
    "# sys.path.append(str(PACKAGE_PARENT/\"pubsub\"))"
   ]
  },
  {
   "cell_type": "code",
   "execution_count": 2,
   "id": "3ab0f3e7",
   "metadata": {},
   "outputs": [],
   "source": [
    "from pubsub import RedisProducer, Event"
   ]
  },
  {
   "cell_type": "code",
   "execution_count": 3,
   "id": "d4ff56ae",
   "metadata": {},
   "outputs": [],
   "source": [
    "producer = RedisProducer('alerts_stream', '')"
   ]
  },
  {
   "cell_type": "code",
   "execution_count": 4,
   "id": "95bdefe6",
   "metadata": {},
   "outputs": [
    {
     "data": {
      "text/plain": [
       "[Event(type='test', payload={'index': 0}),\n",
       " Event(type='test', payload={'index': 1}),\n",
       " Event(type='test', payload={'index': 2}),\n",
       " Event(type='test', payload={'index': 3}),\n",
       " Event(type='test', payload={'index': 4})]"
      ]
     },
     "execution_count": 4,
     "metadata": {},
     "output_type": "execute_result"
    }
   ],
   "source": [
    "events = [Event(type=\"test\", payload={\"index\": i}) for i in range(5)]\n",
    "events"
   ]
  },
  {
   "cell_type": "code",
   "execution_count": 11,
   "id": "634e561b",
   "metadata": {},
   "outputs": [
    {
     "ename": "KeyboardInterrupt",
     "evalue": "",
     "output_type": "error",
     "traceback": [
      "\u001b[0;31m---------------------------------------------------------------------------\u001b[0m",
      "\u001b[0;31mKeyboardInterrupt\u001b[0m                         Traceback (most recent call last)",
      "Cell \u001b[0;32mIn[11], line 6\u001b[0m\n\u001b[1;32m      4\u001b[0m event \u001b[38;5;241m=\u001b[39m Event(\u001b[38;5;28mtype\u001b[39m\u001b[38;5;241m=\u001b[39m\u001b[38;5;124m\"\u001b[39m\u001b[38;5;124mtest\u001b[39m\u001b[38;5;124m\"\u001b[39m, payload\u001b[38;5;241m=\u001b[39m{\u001b[38;5;124m\"\u001b[39m\u001b[38;5;124mindex\u001b[39m\u001b[38;5;124m\"\u001b[39m: i})\n\u001b[1;32m      5\u001b[0m producer\u001b[38;5;241m.\u001b[39mproduce(event)\n\u001b[0;32m----> 6\u001b[0m time\u001b[38;5;241m.\u001b[39msleep(\u001b[38;5;241m1\u001b[39m)\n",
      "\u001b[0;31mKeyboardInterrupt\u001b[0m: "
     ]
    }
   ],
   "source": [
    "import time\n",
    "\n",
    "for i in range(100):\n",
    "    event = Event(type=\"test\", payload={\"index\": i})\n",
    "    producer.produce(event)\n",
    "    time.sleep(1)"
   ]
  },
  {
   "cell_type": "code",
   "execution_count": 5,
   "id": "1360844c",
   "metadata": {},
   "outputs": [
    {
     "data": {
      "text/plain": [
       "'{\"type\": \"test\", \"payload\": {\"index\": 0}}'"
      ]
     },
     "execution_count": 5,
     "metadata": {},
     "output_type": "execute_result"
    }
   ],
   "source": [
    "events[0].json"
   ]
  }
 ],
 "metadata": {
  "kernelspec": {
   "display_name": "Python 3 (ipykernel)",
   "language": "python",
   "name": "python3"
  },
  "language_info": {
   "codemirror_mode": {
    "name": "ipython",
    "version": 3
   },
   "file_extension": ".py",
   "mimetype": "text/x-python",
   "name": "python",
   "nbconvert_exporter": "python",
   "pygments_lexer": "ipython3",
   "version": "3.11.4"
  }
 },
 "nbformat": 4,
 "nbformat_minor": 5
}
